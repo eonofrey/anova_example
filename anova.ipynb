{
 "cells": [
  {
   "cell_type": "code",
   "execution_count": 12,
   "metadata": {
    "ExecuteTime": {
     "end_time": "2020-12-21T00:20:23.165929Z",
     "start_time": "2020-12-21T00:20:23.151864Z"
    },
    "collapsed": true
   },
   "outputs": [],
   "source": [
    "import pandas as pd\n",
    "import statsmodels.api as sm\n",
    "from statsmodels.formula.api import ols\n",
    "import seaborn as sns\n",
    "import matplotlib.pyplot as plt"
   ]
  },
  {
   "cell_type": "code",
   "execution_count": 2,
   "metadata": {
    "ExecuteTime": {
     "end_time": "2020-12-21T00:18:34.788782Z",
     "start_time": "2020-12-21T00:18:33.833358Z"
    },
    "collapsed": true
   },
   "outputs": [],
   "source": [
    "#smaller_df = pd.read_csv('winemag-data-130k-v2.csv')\n",
    "larger_df = pd.read_csv('winemag-data_first150k.csv')"
   ]
  },
  {
   "cell_type": "code",
   "execution_count": 4,
   "metadata": {
    "ExecuteTime": {
     "end_time": "2020-12-21T00:18:43.893213Z",
     "start_time": "2020-12-21T00:18:43.835300Z"
    }
   },
   "outputs": [
    {
     "data": {
      "text/html": [
       "<div>\n",
       "<style scoped>\n",
       "    .dataframe tbody tr th:only-of-type {\n",
       "        vertical-align: middle;\n",
       "    }\n",
       "\n",
       "    .dataframe tbody tr th {\n",
       "        vertical-align: top;\n",
       "    }\n",
       "\n",
       "    .dataframe thead th {\n",
       "        text-align: right;\n",
       "    }\n",
       "</style>\n",
       "<table border=\"1\" class=\"dataframe\">\n",
       "  <thead>\n",
       "    <tr style=\"text-align: right;\">\n",
       "      <th></th>\n",
       "      <th>Unnamed: 0</th>\n",
       "      <th>country</th>\n",
       "      <th>description</th>\n",
       "      <th>designation</th>\n",
       "      <th>points</th>\n",
       "      <th>price</th>\n",
       "      <th>province</th>\n",
       "      <th>region_1</th>\n",
       "      <th>region_2</th>\n",
       "      <th>variety</th>\n",
       "      <th>winery</th>\n",
       "    </tr>\n",
       "  </thead>\n",
       "  <tbody>\n",
       "    <tr>\n",
       "      <th>0</th>\n",
       "      <td>0</td>\n",
       "      <td>US</td>\n",
       "      <td>This tremendous 100% varietal wine hails from ...</td>\n",
       "      <td>Martha's Vineyard</td>\n",
       "      <td>96</td>\n",
       "      <td>235.0</td>\n",
       "      <td>California</td>\n",
       "      <td>Napa Valley</td>\n",
       "      <td>Napa</td>\n",
       "      <td>Cabernet Sauvignon</td>\n",
       "      <td>Heitz</td>\n",
       "    </tr>\n",
       "    <tr>\n",
       "      <th>1</th>\n",
       "      <td>1</td>\n",
       "      <td>Spain</td>\n",
       "      <td>Ripe aromas of fig, blackberry and cassis are ...</td>\n",
       "      <td>Carodorum Selección Especial Reserva</td>\n",
       "      <td>96</td>\n",
       "      <td>110.0</td>\n",
       "      <td>Northern Spain</td>\n",
       "      <td>Toro</td>\n",
       "      <td>NaN</td>\n",
       "      <td>Tinta de Toro</td>\n",
       "      <td>Bodega Carmen Rodríguez</td>\n",
       "    </tr>\n",
       "    <tr>\n",
       "      <th>2</th>\n",
       "      <td>2</td>\n",
       "      <td>US</td>\n",
       "      <td>Mac Watson honors the memory of a wine once ma...</td>\n",
       "      <td>Special Selected Late Harvest</td>\n",
       "      <td>96</td>\n",
       "      <td>90.0</td>\n",
       "      <td>California</td>\n",
       "      <td>Knights Valley</td>\n",
       "      <td>Sonoma</td>\n",
       "      <td>Sauvignon Blanc</td>\n",
       "      <td>Macauley</td>\n",
       "    </tr>\n",
       "    <tr>\n",
       "      <th>3</th>\n",
       "      <td>3</td>\n",
       "      <td>US</td>\n",
       "      <td>This spent 20 months in 30% new French oak, an...</td>\n",
       "      <td>Reserve</td>\n",
       "      <td>96</td>\n",
       "      <td>65.0</td>\n",
       "      <td>Oregon</td>\n",
       "      <td>Willamette Valley</td>\n",
       "      <td>Willamette Valley</td>\n",
       "      <td>Pinot Noir</td>\n",
       "      <td>Ponzi</td>\n",
       "    </tr>\n",
       "    <tr>\n",
       "      <th>4</th>\n",
       "      <td>4</td>\n",
       "      <td>France</td>\n",
       "      <td>This is the top wine from La Bégude, named aft...</td>\n",
       "      <td>La Brûlade</td>\n",
       "      <td>95</td>\n",
       "      <td>66.0</td>\n",
       "      <td>Provence</td>\n",
       "      <td>Bandol</td>\n",
       "      <td>NaN</td>\n",
       "      <td>Provence red blend</td>\n",
       "      <td>Domaine de la Bégude</td>\n",
       "    </tr>\n",
       "  </tbody>\n",
       "</table>\n",
       "</div>"
      ],
      "text/plain": [
       "   Unnamed: 0 country                                        description  \\\n",
       "0           0      US  This tremendous 100% varietal wine hails from ...   \n",
       "1           1   Spain  Ripe aromas of fig, blackberry and cassis are ...   \n",
       "2           2      US  Mac Watson honors the memory of a wine once ma...   \n",
       "3           3      US  This spent 20 months in 30% new French oak, an...   \n",
       "4           4  France  This is the top wine from La Bégude, named aft...   \n",
       "\n",
       "                            designation  points  price        province  \\\n",
       "0                     Martha's Vineyard      96  235.0      California   \n",
       "1  Carodorum Selección Especial Reserva      96  110.0  Northern Spain   \n",
       "2         Special Selected Late Harvest      96   90.0      California   \n",
       "3                               Reserve      96   65.0          Oregon   \n",
       "4                            La Brûlade      95   66.0        Provence   \n",
       "\n",
       "            region_1           region_2             variety  \\\n",
       "0        Napa Valley               Napa  Cabernet Sauvignon   \n",
       "1               Toro                NaN       Tinta de Toro   \n",
       "2     Knights Valley             Sonoma     Sauvignon Blanc   \n",
       "3  Willamette Valley  Willamette Valley          Pinot Noir   \n",
       "4             Bandol                NaN  Provence red blend   \n",
       "\n",
       "                    winery  \n",
       "0                    Heitz  \n",
       "1  Bodega Carmen Rodríguez  \n",
       "2                 Macauley  \n",
       "3                    Ponzi  \n",
       "4     Domaine de la Bégude  "
      ]
     },
     "execution_count": 4,
     "metadata": {},
     "output_type": "execute_result"
    }
   ],
   "source": [
    "larger_df.head()"
   ]
  },
  {
   "cell_type": "code",
   "execution_count": 54,
   "metadata": {
    "ExecuteTime": {
     "end_time": "2020-12-21T00:32:54.676529Z",
     "start_time": "2020-12-21T00:32:54.610117Z"
    }
   },
   "outputs": [
    {
     "name": "stdout",
     "output_type": "stream",
     "text": [
      "~~~~~~~~~~~Row before dropping NAs: 137235~~~~~~~~~~~\n",
      "~~~~~~~~~~~Row after dropping NAs: 137235~~~~~~~~~~~\n"
     ]
    }
   ],
   "source": [
    "print('~~~~~~~~~~~Row before dropping NAs: {}~~~~~~~~~~~'.format(len(larger_df)))\n",
    "larger_df.dropna(subset=['price'], inplace=True)\n",
    "print('~~~~~~~~~~~Row after dropping NAs: {}~~~~~~~~~~~'.format(len(larger_df)))\n"
   ]
  },
  {
   "cell_type": "code",
   "execution_count": 89,
   "metadata": {
    "ExecuteTime": {
     "end_time": "2020-12-21T00:36:11.607149Z",
     "start_time": "2020-12-21T00:36:11.467725Z"
    }
   },
   "outputs": [
    {
     "data": {
      "text/plain": [
       "Italy     1000\n",
       "France    1000\n",
       "US        1000\n",
       "Name: country, dtype: int64"
      ]
     },
     "execution_count": 89,
     "metadata": {},
     "output_type": "execute_result"
    }
   ],
   "source": [
    "# Collect Data \n",
    "samples = 1000\n",
    "max_price = 200\n",
    "seed = 42\n",
    "\n",
    "# Pull Italy\n",
    "germany = larger_df[(larger_df.country=='Italy') & (larger_df.price<max_price)].sample(samples, random_state=seed)\n",
    "\n",
    "# Pull US\n",
    "united_states = larger_df[(larger_df.country=='US') & (larger_df.price<max_price)].sample(samples, random_state=seed)\n",
    "\n",
    "# Pull Spain \n",
    "france = larger_df[(larger_df.country=='France') & (larger_df.price<max_price)].sample(samples, random_state=seed)\n",
    "\n",
    "\n",
    "data_list = [germany, united_states, france]\n",
    "wine_df = pd.concat(data_list)\n",
    "\n",
    "wine_df.country.value_counts()\n"
   ]
  },
  {
   "cell_type": "code",
   "execution_count": 90,
   "metadata": {
    "ExecuteTime": {
     "end_time": "2020-12-21T00:36:12.081470Z",
     "start_time": "2020-12-21T00:36:12.027561Z"
    }
   },
   "outputs": [
    {
     "data": {
      "text/html": [
       "<div>\n",
       "<style scoped>\n",
       "    .dataframe tbody tr th:only-of-type {\n",
       "        vertical-align: middle;\n",
       "    }\n",
       "\n",
       "    .dataframe tbody tr th {\n",
       "        vertical-align: top;\n",
       "    }\n",
       "\n",
       "    .dataframe thead th {\n",
       "        text-align: right;\n",
       "    }\n",
       "</style>\n",
       "<table border=\"1\" class=\"dataframe\">\n",
       "  <thead>\n",
       "    <tr style=\"text-align: right;\">\n",
       "      <th></th>\n",
       "      <th>sum_sq</th>\n",
       "      <th>df</th>\n",
       "      <th>F</th>\n",
       "      <th>PR(&gt;F)</th>\n",
       "    </tr>\n",
       "  </thead>\n",
       "  <tbody>\n",
       "    <tr>\n",
       "      <th>country</th>\n",
       "      <td>6.039731e+03</td>\n",
       "      <td>2.0</td>\n",
       "      <td>4.069736</td>\n",
       "      <td>0.017176</td>\n",
       "    </tr>\n",
       "    <tr>\n",
       "      <th>Residual</th>\n",
       "      <td>2.223863e+06</td>\n",
       "      <td>2997.0</td>\n",
       "      <td>NaN</td>\n",
       "      <td>NaN</td>\n",
       "    </tr>\n",
       "  </tbody>\n",
       "</table>\n",
       "</div>"
      ],
      "text/plain": [
       "                sum_sq      df         F    PR(>F)\n",
       "country   6.039731e+03     2.0  4.069736  0.017176\n",
       "Residual  2.223863e+06  2997.0       NaN       NaN"
      ]
     },
     "execution_count": 90,
     "metadata": {},
     "output_type": "execute_result"
    }
   ],
   "source": [
    "# ANOVA Test \n",
    "model = ols('price ~ country', data=wine_df).fit()\n",
    "anova = sm.stats.anova_lm(model, typ=2)\n",
    "\n",
    "anova"
   ]
  },
  {
   "cell_type": "code",
   "execution_count": 91,
   "metadata": {
    "ExecuteTime": {
     "end_time": "2020-12-21T00:36:13.367938Z",
     "start_time": "2020-12-21T00:36:13.004605Z"
    }
   },
   "outputs": [
    {
     "data": {
      "image/png": "[encoded data removed]",
      "text/plain": [
       "<matplotlib.figure.Figure at 0x11f8dcb00>"
      ]
     },
     "metadata": {},
     "output_type": "display_data"
    }
   ],
   "source": [
    "# Plot Price Distributions \n",
    "sns.set_style(\"white\")\n",
    "plt.figure(figsize=(10, 6))\n",
    "\n",
    "for name in ['US', 'Italy', 'France']:\n",
    "    sns.distplot(wine_df[wine_df.country==name].price, kde_kws=dict(linewidth=3))\n",
    "    \n",
    "    \n",
    "plt.legend(['US', 'Italy', 'France'])\n",
    "plt.show()"
   ]
  },
  {
   "cell_type": "code",
   "execution_count": 88,
   "metadata": {
    "ExecuteTime": {
     "end_time": "2020-12-21T00:35:23.628022Z",
     "start_time": "2020-12-21T00:35:23.612742Z"
    }
   },
   "outputs": [
    {
     "data": {
      "text/plain": [
       "country\n",
       "France    37.242\n",
       "Italy     35.286\n",
       "US        33.776\n",
       "Name: price, dtype: float64"
      ]
     },
     "execution_count": 88,
     "metadata": {},
     "output_type": "execute_result"
    }
   ],
   "source": [
    "wine_df.groupby('country').mean()['price']"
   ]
  },
  {
   "cell_type": "code",
   "execution_count": 98,
   "metadata": {
    "ExecuteTime": {
     "end_time": "2020-12-21T00:55:26.418339Z",
     "start_time": "2020-12-21T00:55:26.339876Z"
    },
    "collapsed": true
   },
   "outputs": [],
   "source": [
    "# Calculate Means \n",
    "mean_france = wine_df[wine_df.country == 'France']['price'].mean()\n",
    "mean_italy = wine_df[wine_df.country == 'Italy']['price'].mean()\n",
    "mean_us = wine_df[wine_df.country == 'US']['price'].mean()\n",
    "mean_overall = wine_df['price'].mean()\n",
    "\n",
    "# Calculate Variances \n",
    "var_france = wine_df[wine_df.country == 'France']['price'].var()\n",
    "var_italy = wine_df[wine_df.country == 'Italy']['price'].var()\n",
    "var_us = wine_df[wine_df.country == 'US']['price'].var()\n"
   ]
  },
  {
   "cell_type": "code",
   "execution_count": 116,
   "metadata": {
    "ExecuteTime": {
     "end_time": "2020-12-21T01:12:48.932511Z",
     "start_time": "2020-12-21T01:12:48.890049Z"
    }
   },
   "outputs": [
    {
     "name": "stdout",
     "output_type": "stream",
     "text": [
      "Sum of Squares Between: 6039.73\n",
      "Sum of Squares Within: 2226089.55\n",
      "Degrees of Freedom for SSB: 2\n",
      "Degrees of Freedom for SSW: 2997\n",
      "F-Statistic: 4.065665907084648\n"
     ]
    }
   ],
   "source": [
    "# Sum of Squares Between\n",
    "SSB = 1000*(mean_overall - mean_france)**2 + \\\n",
    "      1000*(mean_overall - mean_italy)**2 + \\\n",
    "      1000*(mean_overall - mean_us)**2 \n",
    "\n",
    "print('Sum of Squares Between: {0:.6g}'.format(SSB))\n",
    "\n",
    "\n",
    "# Sum of Squares Within \n",
    "SSW = 1000*var_france + \\\n",
    "      1000*var_italy + \\\n",
    "      1000*var_us\n",
    "\n",
    "print('Sum of Squares Within: {0:.9g}'.format(SSW))\n",
    "\n",
    "\n",
    "# Degrees of Freedom \n",
    "dof_SSB = 2\n",
    "dof_SSW = 3000-3\n",
    "\n",
    "print('Degrees of Freedom for SSB: {}'.format(dof_SSB))\n",
    "print('Degrees of Freedom for SSW: {}'.format(dof_SSW))\n",
    "\n",
    "\n",
    "# F Stastics \n",
    "f_stat = (SSB/dof_SSB) / (SSW/dof_SSW)\n",
    "\n",
    "print('F-Statistic: {}'.format(f_stat))\n",
    "\n"
   ]
  },
  {
   "cell_type": "code",
   "execution_count": 157,
   "metadata": {
    "ExecuteTime": {
     "end_time": "2020-12-21T01:46:54.194426Z",
     "start_time": "2020-12-21T01:46:52.675085Z"
    }
   },
   "outputs": [
    {
     "data": {
      "image/png": "[encoded data removed]",
      "text/plain": [
       "<matplotlib.figure.Figure at 0x11d158048>"
      ]
     },
     "metadata": {},
     "output_type": "display_data"
    }
   ],
   "source": [
    "# F Distribution \n",
    "import numpy as np\n",
    "from scipy.stats import f, norm\n",
    "import matplotlib.pyplot as plt\n",
    "\n",
    "# Plot Figure\n",
    "plt.figure(figsize=(10, 5))\n",
    "plt.xlim(0,12)\n",
    "plt.ylim(-.005,1.2)\n",
    "\n",
    "# Plot\n",
    "dist = f(dfn=dof_SSB, dfd=dof_SSW, loc=0, scale=1)\n",
    "x = np.linspace(dist.ppf(0.000001), dist.ppf(0.99999999), 1000)\n",
    "y = dist.pdf(x) \n",
    "\n",
    "plt.plot(x,y, '-', color='black', linewidth=2)\n",
    "plt.vlines(f_stat, color='red', ymin=-1, ymax=1.2, linestyle='--')\n",
    "plt.text(x=f_stat+.5, y=1, s='F-Stat: {:.2f}'.format(f_stat), fontsize='x-large', color='red')\n",
    "\n",
    "plt.show()"
   ]
  },
  {
   "cell_type": "code",
   "execution_count": null,
   "metadata": {
    "collapsed": true
   },
   "outputs": [],
   "source": []
  }
 ],
 "metadata": {
  "kernelspec": {
   "display_name": "Python 3",
   "language": "python",
   "name": "python3"
  },
  "language_info": {
   "codemirror_mode": {
    "name": "ipython",
    "version": 3
   },
   "file_extension": ".py",
   "mimetype": "text/x-python",
   "name": "python",
   "nbconvert_exporter": "python",
   "pygments_lexer": "ipython3",
   "version": "3.6.3"
  },
  "varInspector": {
   "cols": {
    "lenName": 16,
    "lenType": 16,
    "lenVar": 40
   },
   "kernels_config": {
    "python": {
     "delete_cmd_postfix": "",
     "delete_cmd_prefix": "del ",
     "library": "var_list.py",
     "varRefreshCmd": "print(var_dic_list())"
    },
    "r": {
     "delete_cmd_postfix": ") ",
     "delete_cmd_prefix": "rm(",
     "library": "var_list.r",
     "varRefreshCmd": "cat(var_dic_list()) "
    }
   },
   "types_to_exclude": [
    "module",
    "function",
    "builtin_function_or_method",
    "instance",
    "_Feature"
   ],
   "window_display": false
  }
 },
 "nbformat": 4,
 "nbformat_minor": 2
}

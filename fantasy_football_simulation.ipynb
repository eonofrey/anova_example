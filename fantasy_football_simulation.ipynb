{
 "cells": [
  {
   "cell_type": "code",
   "execution_count": 2,
   "metadata": {
    "ExecuteTime": {
     "end_time": "2020-12-09T14:42:49.133033Z",
     "start_time": "2020-12-09T14:42:47.229255Z"
    },
    "collapsed": true
   },
   "outputs": [],
   "source": [
    "import pandas as pd\n",
    "import numpy as np\n",
    "import matplotlib.pyplot as plt\n",
    "import seaborn as sns"
   ]
  },
  {
   "cell_type": "code",
   "execution_count": 3,
   "metadata": {
    "ExecuteTime": {
     "end_time": "2020-12-09T14:42:49.251600Z",
     "start_time": "2020-12-09T14:42:49.171869Z"
    }
   },
   "outputs": [
    {
     "data": {
      "text/html": [
       "<div>\n",
       "<style scoped>\n",
       "    .dataframe tbody tr th:only-of-type {\n",
       "        vertical-align: middle;\n",
       "    }\n",
       "\n",
       "    .dataframe tbody tr th {\n",
       "        vertical-align: top;\n",
       "    }\n",
       "\n",
       "    .dataframe thead th {\n",
       "        text-align: right;\n",
       "    }\n",
       "</style>\n",
       "<table border=\"1\" class=\"dataframe\">\n",
       "  <thead>\n",
       "    <tr style=\"text-align: right;\">\n",
       "      <th></th>\n",
       "      <th>Week</th>\n",
       "      <th>Eric</th>\n",
       "      <th>Quinn</th>\n",
       "      <th>Nate</th>\n",
       "      <th>Ben</th>\n",
       "      <th>Luke</th>\n",
       "      <th>Lo</th>\n",
       "    </tr>\n",
       "  </thead>\n",
       "  <tbody>\n",
       "    <tr>\n",
       "      <th>5</th>\n",
       "      <td>6</td>\n",
       "      <td>93.12</td>\n",
       "      <td>116.40</td>\n",
       "      <td>114.12</td>\n",
       "      <td>108.02</td>\n",
       "      <td>109.22</td>\n",
       "      <td>100.04</td>\n",
       "    </tr>\n",
       "    <tr>\n",
       "      <th>6</th>\n",
       "      <td>7</td>\n",
       "      <td>105.50</td>\n",
       "      <td>121.56</td>\n",
       "      <td>105.66</td>\n",
       "      <td>79.62</td>\n",
       "      <td>135.60</td>\n",
       "      <td>108.40</td>\n",
       "    </tr>\n",
       "    <tr>\n",
       "      <th>7</th>\n",
       "      <td>8</td>\n",
       "      <td>112.34</td>\n",
       "      <td>122.14</td>\n",
       "      <td>108.62</td>\n",
       "      <td>97.34</td>\n",
       "      <td>99.60</td>\n",
       "      <td>96.72</td>\n",
       "    </tr>\n",
       "    <tr>\n",
       "      <th>8</th>\n",
       "      <td>9</td>\n",
       "      <td>112.94</td>\n",
       "      <td>114.50</td>\n",
       "      <td>104.42</td>\n",
       "      <td>88.00</td>\n",
       "      <td>135.22</td>\n",
       "      <td>87.30</td>\n",
       "    </tr>\n",
       "    <tr>\n",
       "      <th>9</th>\n",
       "      <td>10</td>\n",
       "      <td>109.14</td>\n",
       "      <td>96.00</td>\n",
       "      <td>101.32</td>\n",
       "      <td>81.82</td>\n",
       "      <td>101.50</td>\n",
       "      <td>102.46</td>\n",
       "    </tr>\n",
       "  </tbody>\n",
       "</table>\n",
       "</div>"
      ],
      "text/plain": [
       "   Week    Eric   Quinn    Nate     Ben    Luke      Lo\n",
       "5     6   93.12  116.40  114.12  108.02  109.22  100.04\n",
       "6     7  105.50  121.56  105.66   79.62  135.60  108.40\n",
       "7     8  112.34  122.14  108.62   97.34   99.60   96.72\n",
       "8     9  112.94  114.50  104.42   88.00  135.22   87.30\n",
       "9    10  109.14   96.00  101.32   81.82  101.50  102.46"
      ]
     },
     "execution_count": 3,
     "metadata": {},
     "output_type": "execute_result"
    }
   ],
   "source": [
    "df = pd.read_csv('fantasy_football_sim.csv')\n",
    "df = df[df.Week>=6]\n",
    "df.head()"
   ]
  },
  {
   "cell_type": "code",
   "execution_count": 4,
   "metadata": {
    "ExecuteTime": {
     "end_time": "2020-12-09T14:43:02.456875Z",
     "start_time": "2020-12-09T14:43:02.435925Z"
    },
    "collapsed": true
   },
   "outputs": [],
   "source": [
    "players = {\n",
    "    'Eric': {'mean_score':df['Eric'].mean()\n",
    "            ,'stdev_score':df['Eric'].std()},\n",
    "    'Quinn': {'mean_score':df['Quinn'].mean()\n",
    "            ,'stdev_score':df['Quinn'].std()},\n",
    "    'Nate': {'mean_score':df['Nate'].mean()\n",
    "            ,'stdev_score':df['Nate'].std()},\n",
    "    'Ben': {'mean_score':df['Ben'].mean()\n",
    "            ,'stdev_score':df['Ben'].std()},\n",
    "    'Luke': {'mean_score':df['Luke'].mean()\n",
    "            ,'stdev_score':df['Luke'].std()},\n",
    "    'Lo': {'mean_score':df['Lo'].mean()\n",
    "            ,'stdev_score':df['Lo'].std()},\n",
    "}"
   ]
  },
  {
   "cell_type": "code",
   "execution_count": 5,
   "metadata": {
    "ExecuteTime": {
     "end_time": "2020-12-09T14:43:03.471380Z",
     "start_time": "2020-12-09T14:43:03.457768Z"
    }
   },
   "outputs": [
    {
     "data": {
      "text/plain": [
       "{'Ben': {'mean_score': 86.8625, 'stdev_score': 10.82676808391392},\n",
       " 'Eric': {'mean_score': 103.17750000000001, 'stdev_score': 10.915307403563387},\n",
       " 'Lo': {'mean_score': 108.7075, 'stdev_score': 18.924366567999044},\n",
       " 'Luke': {'mean_score': 106.45249999999999, 'stdev_score': 20.0184227650432},\n",
       " 'Nate': {'mean_score': 105.0275, 'stdev_score': 9.320226468738376},\n",
       " 'Quinn': {'mean_score': 115.835, 'stdev_score': 10.840510003817029}}"
      ]
     },
     "execution_count": 5,
     "metadata": {},
     "output_type": "execute_result"
    }
   ],
   "source": [
    "players"
   ]
  },
  {
   "cell_type": "code",
   "execution_count": 6,
   "metadata": {
    "ExecuteTime": {
     "end_time": "2020-12-09T14:43:06.941385Z",
     "start_time": "2020-12-09T14:43:06.924937Z"
    },
    "collapsed": true
   },
   "outputs": [],
   "source": [
    "def matchup(player1, player2):\n",
    "    \"\"\"\n",
    "    Given two names, assign a score to each player from a normal distribution \n",
    "    created from his historic mean and sd of points scored. Return the name of \n",
    "    the winner (player who scored higher).\n",
    "    \"\"\"\n",
    "    p1_score = np.random.normal(players[player1]['mean_score'], players[player1]['stdev_score'])\n",
    "    p2_score = np.random.normal(players[player2]['mean_score'], players[player2]['stdev_score'])\n",
    "    \n",
    "    if p1_score >= p2_score: \n",
    "        return player1\n",
    "    else:\n",
    "        return player2"
   ]
  },
  {
   "cell_type": "markdown",
   "metadata": {},
   "source": [
    "# Abington Heights League"
   ]
  },
  {
   "cell_type": "code",
   "execution_count": 7,
   "metadata": {
    "ExecuteTime": {
     "end_time": "2020-12-09T14:43:39.806840Z",
     "start_time": "2020-12-09T14:43:39.790249Z"
    },
    "collapsed": true
   },
   "outputs": [],
   "source": [
    "def simulate():\n",
    "    \n",
    "    # Quarterfinals\n",
    "    quarterfinal1 = matchup('Ben', 'Lo')\n",
    "    quarterfinal2 = matchup('Quinn', 'Luke')\n",
    "\n",
    "    # Semifinals \n",
    "    semifinal1 = matchup('Nate', quarterfinal1)\n",
    "    semifinal2 = matchup('Eric', quarterfinal2)\n",
    "    \n",
    "    # Finals\n",
    "    final = matchup(semifinal1, semifinal2)\n",
    "    \n",
    "    # Return Champion\n",
    "    return final "
   ]
  },
  {
   "cell_type": "code",
   "execution_count": 8,
   "metadata": {
    "ExecuteTime": {
     "end_time": "2020-12-09T14:43:50.797754Z",
     "start_time": "2020-12-09T14:43:44.868191Z"
    },
    "collapsed": true
   },
   "outputs": [],
   "source": [
    "wins = []\n",
    "\n",
    "for i in range(200000):\n",
    "    wins.append(simulate())"
   ]
  },
  {
   "cell_type": "code",
   "execution_count": 12,
   "metadata": {
    "ExecuteTime": {
     "end_time": "2020-12-09T14:44:18.072340Z",
     "start_time": "2020-12-09T14:44:17.992917Z"
    }
   },
   "outputs": [
    {
     "data": {
      "text/html": [
       "<div>\n",
       "<style scoped>\n",
       "    .dataframe tbody tr th:only-of-type {\n",
       "        vertical-align: middle;\n",
       "    }\n",
       "\n",
       "    .dataframe tbody tr th {\n",
       "        vertical-align: top;\n",
       "    }\n",
       "\n",
       "    .dataframe thead th {\n",
       "        text-align: right;\n",
       "    }\n",
       "</style>\n",
       "<table border=\"1\" class=\"dataframe\">\n",
       "  <thead>\n",
       "    <tr style=\"text-align: right;\">\n",
       "      <th></th>\n",
       "      <th>Team</th>\n",
       "      <th>Win Probability</th>\n",
       "    </tr>\n",
       "  </thead>\n",
       "  <tbody>\n",
       "    <tr>\n",
       "      <th>0</th>\n",
       "      <td>Quinn</td>\n",
       "      <td>0.371705</td>\n",
       "    </tr>\n",
       "    <tr>\n",
       "      <th>1</th>\n",
       "      <td>Lo</td>\n",
       "      <td>0.224135</td>\n",
       "    </tr>\n",
       "    <tr>\n",
       "      <th>2</th>\n",
       "      <td>Nate</td>\n",
       "      <td>0.185140</td>\n",
       "    </tr>\n",
       "    <tr>\n",
       "      <th>3</th>\n",
       "      <td>Eric</td>\n",
       "      <td>0.122595</td>\n",
       "    </tr>\n",
       "    <tr>\n",
       "      <th>4</th>\n",
       "      <td>Luke</td>\n",
       "      <td>0.094980</td>\n",
       "    </tr>\n",
       "    <tr>\n",
       "      <th>5</th>\n",
       "      <td>Ben</td>\n",
       "      <td>0.001445</td>\n",
       "    </tr>\n",
       "  </tbody>\n",
       "</table>\n",
       "</div>"
      ],
      "text/plain": [
       "    Team  Win Probability\n",
       "0  Quinn         0.371705\n",
       "1     Lo         0.224135\n",
       "2   Nate         0.185140\n",
       "3   Eric         0.122595\n",
       "4   Luke         0.094980\n",
       "5    Ben         0.001445"
      ]
     },
     "execution_count": 12,
     "metadata": {},
     "output_type": "execute_result"
    }
   ],
   "source": [
    "percents = pd.Series(wins).value_counts(normalize=True, \n",
    "                                        sort=True, \n",
    "                                        ascending=False, \n",
    "                                        bins=None, \n",
    "                                        dropna=True\n",
    "                                       )\n",
    "\n",
    "percent_df = pd.DataFrame(percents).reset_index()\n",
    "percent_df.columns = ['Team', 'Win Probability']\n",
    "percent_df.head(6)"
   ]
  },
  {
   "cell_type": "code",
   "execution_count": 11,
   "metadata": {
    "ExecuteTime": {
     "end_time": "2020-12-09T14:44:10.980130Z",
     "start_time": "2020-12-09T14:44:10.692349Z"
    }
   },
   "outputs": [
    {
     "data": {
      "image/png": "[encoded data removed]",
      "text/plain": [
       "<matplotlib.figure.Figure at 0x11ec665c0>"
      ]
     },
     "metadata": {},
     "output_type": "display_data"
    }
   ],
   "source": [
    "sns.set_style(\"whitegrid\")\n",
    "sns.set_palette(sns.color_palette(\"coolwarm\"))\n",
    "\n",
    "plt.figure(figsize=(10, 6))\n",
    "sns.barplot(percent_df.Team, percent_df['Win Probability'])\n",
    "\n",
    "for i, row in percent_df.iterrows():\n",
    "    plt.text(  i\n",
    "             , row[1]+.01\n",
    "             , s=\"{:.2%}\".format(round(row[1], 5))\n",
    "             , color='black'\n",
    "             , ha=\"center\"\n",
    "             , fontsize=11\n",
    "            )\n",
    "    \n",
    "plt.yticks(fontsize=12)\n",
    "plt.title('Probability of Winning the League (200k simulations)', fontsize=16)\n",
    "plt.ylabel('Win Probability', fontsize=14)\n",
    "plt.xlabel('Team', fontsize=14)\n",
    "plt.ylim(0, .4)\n",
    "\n",
    "plt.savefig('results.png')\n",
    "\n",
    "plt.show()"
   ]
  },
  {
   "cell_type": "markdown",
   "metadata": {},
   "source": [
    "# Lo's League"
   ]
  },
  {
   "cell_type": "code",
   "execution_count": 246,
   "metadata": {
    "ExecuteTime": {
     "end_time": "2020-12-07T18:40:09.472112Z",
     "start_time": "2020-12-07T18:40:09.441773Z"
    }
   },
   "outputs": [
    {
     "data": {
      "text/html": [
       "<div>\n",
       "<style scoped>\n",
       "    .dataframe tbody tr th:only-of-type {\n",
       "        vertical-align: middle;\n",
       "    }\n",
       "\n",
       "    .dataframe tbody tr th {\n",
       "        vertical-align: top;\n",
       "    }\n",
       "\n",
       "    .dataframe thead th {\n",
       "        text-align: right;\n",
       "    }\n",
       "</style>\n",
       "<table border=\"1\" class=\"dataframe\">\n",
       "  <thead>\n",
       "    <tr style=\"text-align: right;\">\n",
       "      <th></th>\n",
       "      <th>Week</th>\n",
       "      <th>Lo</th>\n",
       "      <th>Dylan</th>\n",
       "      <th>Krieger</th>\n",
       "      <th>North</th>\n",
       "      <th>Jake</th>\n",
       "      <th>Peter</th>\n",
       "    </tr>\n",
       "  </thead>\n",
       "  <tbody>\n",
       "    <tr>\n",
       "      <th>7</th>\n",
       "      <td>8</td>\n",
       "      <td>155.96</td>\n",
       "      <td>162.59</td>\n",
       "      <td>115.21</td>\n",
       "      <td>140.62</td>\n",
       "      <td>92.22</td>\n",
       "      <td>121.54</td>\n",
       "    </tr>\n",
       "    <tr>\n",
       "      <th>8</th>\n",
       "      <td>9</td>\n",
       "      <td>153.05</td>\n",
       "      <td>109.69</td>\n",
       "      <td>95.84</td>\n",
       "      <td>114.90</td>\n",
       "      <td>78.94</td>\n",
       "      <td>119.24</td>\n",
       "    </tr>\n",
       "    <tr>\n",
       "      <th>9</th>\n",
       "      <td>10</td>\n",
       "      <td>93.88</td>\n",
       "      <td>101.60</td>\n",
       "      <td>116.46</td>\n",
       "      <td>90.85</td>\n",
       "      <td>131.45</td>\n",
       "      <td>124.86</td>\n",
       "    </tr>\n",
       "    <tr>\n",
       "      <th>10</th>\n",
       "      <td>11</td>\n",
       "      <td>116.82</td>\n",
       "      <td>140.21</td>\n",
       "      <td>174.80</td>\n",
       "      <td>130.10</td>\n",
       "      <td>156.53</td>\n",
       "      <td>96.32</td>\n",
       "    </tr>\n",
       "    <tr>\n",
       "      <th>11</th>\n",
       "      <td>12</td>\n",
       "      <td>145.67</td>\n",
       "      <td>170.23</td>\n",
       "      <td>87.95</td>\n",
       "      <td>76.77</td>\n",
       "      <td>125.05</td>\n",
       "      <td>119.63</td>\n",
       "    </tr>\n",
       "  </tbody>\n",
       "</table>\n",
       "</div>"
      ],
      "text/plain": [
       "    Week      Lo   Dylan  Krieger   North    Jake   Peter\n",
       "7      8  155.96  162.59   115.21  140.62   92.22  121.54\n",
       "8      9  153.05  109.69    95.84  114.90   78.94  119.24\n",
       "9     10   93.88  101.60   116.46   90.85  131.45  124.86\n",
       "10    11  116.82  140.21   174.80  130.10  156.53   96.32\n",
       "11    12  145.67  170.23    87.95   76.77  125.05  119.63"
      ]
     },
     "execution_count": 246,
     "metadata": {},
     "output_type": "execute_result"
    }
   ],
   "source": [
    "df = pd.read_csv('lo_fantasy.csv')\n",
    "df = df[df.Week>=7]\n",
    "df.head()"
   ]
  },
  {
   "cell_type": "code",
   "execution_count": 247,
   "metadata": {
    "ExecuteTime": {
     "end_time": "2020-12-07T18:40:10.358979Z",
     "start_time": "2020-12-07T18:40:10.340052Z"
    },
    "collapsed": true
   },
   "outputs": [],
   "source": [
    "players = {\n",
    "    'Lo': {'mean_score':df['Lo'].mean()\n",
    "            ,'stdev_score':df['Lo'].std()},\n",
    "    'Dylan': {'mean_score':df['Dylan'].mean()\n",
    "            ,'stdev_score':df['Dylan'].std()},\n",
    "    'Krieger': {'mean_score':df['Krieger'].mean()\n",
    "            ,'stdev_score':df['Krieger'].std()},\n",
    "    'North': {'mean_score':df['North'].mean()\n",
    "            ,'stdev_score':df['North'].std()},\n",
    "    'Jake': {'mean_score':df['Jake'].mean()\n",
    "            ,'stdev_score':df['Jake'].std()},\n",
    "    'Peter': {'mean_score':df['Peter'].mean()\n",
    "            ,'stdev_score':df['Peter'].std()},\n",
    "}"
   ]
  },
  {
   "cell_type": "code",
   "execution_count": 248,
   "metadata": {
    "ExecuteTime": {
     "end_time": "2020-12-07T18:40:11.280359Z",
     "start_time": "2020-12-07T18:40:11.262846Z"
    },
    "collapsed": true
   },
   "outputs": [],
   "source": [
    "def simulate():\n",
    "    \n",
    "    quarterfinal1 = matchup('Lo', 'Peter')\n",
    "    quarterfinal2 = matchup('Krieger', 'North')\n",
    "\n",
    "    \n",
    "    semifinal1 = matchup('Dylan', quarterfinal1)\n",
    "    semifinal2 = matchup('Jake', quarterfinal2)\n",
    "    \n",
    "\n",
    "    final = matchup(semifinal1, semifinal2)\n",
    "    \n",
    "    return final \n",
    "    "
   ]
  },
  {
   "cell_type": "code",
   "execution_count": 249,
   "metadata": {
    "ExecuteTime": {
     "end_time": "2020-12-07T18:40:15.644057Z",
     "start_time": "2020-12-07T18:40:12.494566Z"
    },
    "collapsed": true
   },
   "outputs": [],
   "source": [
    "wins = []\n",
    "\n",
    "for i in range(100000):\n",
    "    wins.append(simulate())"
   ]
  },
  {
   "cell_type": "code",
   "execution_count": 244,
   "metadata": {
    "ExecuteTime": {
     "end_time": "2020-12-07T18:40:01.370989Z",
     "start_time": "2020-12-07T18:40:01.288699Z"
    }
   },
   "outputs": [
    {
     "data": {
      "text/plain": [
       "Dylan      0.40954\n",
       "Lo         0.21794\n",
       "Jake       0.17927\n",
       "Krieger    0.10224\n",
       "North      0.05271\n",
       "Peter      0.03830\n",
       "dtype: float64"
      ]
     },
     "execution_count": 244,
     "metadata": {},
     "output_type": "execute_result"
    }
   ],
   "source": [
    "percents = pd.Series(wins).value_counts(normalize=True, \n",
    "                                        sort=True, \n",
    "                                        ascending=False, \n",
    "                                        bins=None, \n",
    "                                        dropna=True\n",
    "                                       )\n",
    "\n",
    "percents"
   ]
  },
  {
   "cell_type": "code",
   "execution_count": 250,
   "metadata": {
    "ExecuteTime": {
     "end_time": "2020-12-07T18:40:28.565216Z",
     "start_time": "2020-12-07T18:40:28.541966Z"
    }
   },
   "outputs": [
    {
     "data": {
      "text/html": [
       "<div>\n",
       "<style scoped>\n",
       "    .dataframe tbody tr th:only-of-type {\n",
       "        vertical-align: middle;\n",
       "    }\n",
       "\n",
       "    .dataframe tbody tr th {\n",
       "        vertical-align: top;\n",
       "    }\n",
       "\n",
       "    .dataframe thead th {\n",
       "        text-align: right;\n",
       "    }\n",
       "</style>\n",
       "<table border=\"1\" class=\"dataframe\">\n",
       "  <thead>\n",
       "    <tr style=\"text-align: right;\">\n",
       "      <th></th>\n",
       "      <th>index</th>\n",
       "      <th>Win Probability</th>\n",
       "    </tr>\n",
       "  </thead>\n",
       "  <tbody>\n",
       "    <tr>\n",
       "      <th>0</th>\n",
       "      <td>Dylan</td>\n",
       "      <td>0.40954</td>\n",
       "    </tr>\n",
       "    <tr>\n",
       "      <th>1</th>\n",
       "      <td>Lo</td>\n",
       "      <td>0.21794</td>\n",
       "    </tr>\n",
       "    <tr>\n",
       "      <th>2</th>\n",
       "      <td>Jake</td>\n",
       "      <td>0.17927</td>\n",
       "    </tr>\n",
       "    <tr>\n",
       "      <th>3</th>\n",
       "      <td>Krieger</td>\n",
       "      <td>0.10224</td>\n",
       "    </tr>\n",
       "    <tr>\n",
       "      <th>4</th>\n",
       "      <td>North</td>\n",
       "      <td>0.05271</td>\n",
       "    </tr>\n",
       "  </tbody>\n",
       "</table>\n",
       "</div>"
      ],
      "text/plain": [
       "     index  Win Probability\n",
       "0    Dylan          0.40954\n",
       "1       Lo          0.21794\n",
       "2     Jake          0.17927\n",
       "3  Krieger          0.10224\n",
       "4    North          0.05271"
      ]
     },
     "execution_count": 250,
     "metadata": {},
     "output_type": "execute_result"
    }
   ],
   "source": [
    "percent_df = pd.DataFrame(percents, columns=['Win Probability']).reset_index()\n",
    "percent_df.head()"
   ]
  },
  {
   "cell_type": "code",
   "execution_count": 251,
   "metadata": {
    "ExecuteTime": {
     "end_time": "2020-12-07T18:40:29.821825Z",
     "start_time": "2020-12-07T18:40:29.601775Z"
    }
   },
   "outputs": [
    {
     "data": {
      "image/png": "[encoded data removed]",
      "text/plain": [
       "<matplotlib.figure.Figure at 0x12017ca90>"
      ]
     },
     "metadata": {},
     "output_type": "display_data"
    }
   ],
   "source": [
    "sns.set_style(\"whitegrid\")\n",
    "sns.set_palette(sns.color_palette(\"coolwarm\"))\n",
    "\n",
    "plt.figure(figsize=(10, 6))\n",
    "sns.barplot(percent_df.index, percent_df['Win Probability'])\n",
    "\n",
    "for i, row in percent_df.iterrows():\n",
    "    plt.text(  i\n",
    "             , row[1]+.01\n",
    "             , s=\"{:.2%}\".format(round(row[1], 5))\n",
    "             , color='black'\n",
    "             , ha=\"center\"\n",
    "             , fontsize=11\n",
    "            )\n",
    "    \n",
    "plt.xticks(range(6), percent_df['index'], fontsize=12)\n",
    "plt.yticks(fontsize=12)\n",
    "plt.title('Probability of Winning the League (200k simulations)', fontsize=16)\n",
    "plt.ylabel('Win Probability', fontsize=14)\n",
    "plt.xlabel('Team', fontsize=14)\n",
    "plt.ylim(0, .5)\n",
    "plt.show()"
   ]
  },
  {
   "cell_type": "markdown",
   "metadata": {},
   "source": [
    "# DKE League"
   ]
  },
  {
   "cell_type": "code",
   "execution_count": 33,
   "metadata": {
    "ExecuteTime": {
     "end_time": "2020-12-09T15:10:12.353183Z",
     "start_time": "2020-12-09T15:10:12.315507Z"
    },
    "scrolled": true
   },
   "outputs": [
    {
     "data": {
      "text/html": [
       "<div>\n",
       "<style scoped>\n",
       "    .dataframe tbody tr th:only-of-type {\n",
       "        vertical-align: middle;\n",
       "    }\n",
       "\n",
       "    .dataframe tbody tr th {\n",
       "        vertical-align: top;\n",
       "    }\n",
       "\n",
       "    .dataframe thead th {\n",
       "        text-align: right;\n",
       "    }\n",
       "</style>\n",
       "<table border=\"1\" class=\"dataframe\">\n",
       "  <thead>\n",
       "    <tr style=\"text-align: right;\">\n",
       "      <th></th>\n",
       "      <th>Week</th>\n",
       "      <th>Eric</th>\n",
       "      <th>Caltz</th>\n",
       "      <th>Slum</th>\n",
       "      <th>Na</th>\n",
       "      <th>Zack</th>\n",
       "      <th>Kinnaird</th>\n",
       "    </tr>\n",
       "  </thead>\n",
       "  <tbody>\n",
       "    <tr>\n",
       "      <th>0</th>\n",
       "      <td>1</td>\n",
       "      <td>125.14</td>\n",
       "      <td>103.90</td>\n",
       "      <td>134.66</td>\n",
       "      <td>130.98</td>\n",
       "      <td>124.68</td>\n",
       "      <td>74.54</td>\n",
       "    </tr>\n",
       "    <tr>\n",
       "      <th>1</th>\n",
       "      <td>2</td>\n",
       "      <td>119.10</td>\n",
       "      <td>142.96</td>\n",
       "      <td>163.40</td>\n",
       "      <td>158.30</td>\n",
       "      <td>111.28</td>\n",
       "      <td>106.88</td>\n",
       "    </tr>\n",
       "    <tr>\n",
       "      <th>2</th>\n",
       "      <td>3</td>\n",
       "      <td>99.58</td>\n",
       "      <td>140.58</td>\n",
       "      <td>119.82</td>\n",
       "      <td>151.44</td>\n",
       "      <td>116.08</td>\n",
       "      <td>114.40</td>\n",
       "    </tr>\n",
       "    <tr>\n",
       "      <th>3</th>\n",
       "      <td>4</td>\n",
       "      <td>120.18</td>\n",
       "      <td>124.92</td>\n",
       "      <td>115.58</td>\n",
       "      <td>140.72</td>\n",
       "      <td>144.00</td>\n",
       "      <td>110.14</td>\n",
       "    </tr>\n",
       "    <tr>\n",
       "      <th>4</th>\n",
       "      <td>5</td>\n",
       "      <td>88.44</td>\n",
       "      <td>129.30</td>\n",
       "      <td>106.46</td>\n",
       "      <td>96.64</td>\n",
       "      <td>120.14</td>\n",
       "      <td>118.20</td>\n",
       "    </tr>\n",
       "  </tbody>\n",
       "</table>\n",
       "</div>"
      ],
      "text/plain": [
       "   Week    Eric   Caltz    Slum      Na    Zack  Kinnaird\n",
       "0     1  125.14  103.90  134.66  130.98  124.68     74.54\n",
       "1     2  119.10  142.96  163.40  158.30  111.28    106.88\n",
       "2     3   99.58  140.58  119.82  151.44  116.08    114.40\n",
       "3     4  120.18  124.92  115.58  140.72  144.00    110.14\n",
       "4     5   88.44  129.30  106.46   96.64  120.14    118.20"
      ]
     },
     "execution_count": 33,
     "metadata": {},
     "output_type": "execute_result"
    }
   ],
   "source": [
    "df = pd.read_csv('fantasy_football_sim_dke.csv')\n",
    "df = df[df.Week>=1]\n",
    "df.head()"
   ]
  },
  {
   "cell_type": "code",
   "execution_count": 46,
   "metadata": {
    "ExecuteTime": {
     "end_time": "2020-12-09T15:10:42.477102Z",
     "start_time": "2020-12-09T15:10:42.449953Z"
    },
    "collapsed": true
   },
   "outputs": [],
   "source": [
    "players = {\n",
    "    'Eric': {'mean_score':df['Eric'].mean()\n",
    "            ,'stdev_score':df['Eric'].std()},\n",
    "    'Caltz': {'mean_score':df['Caltz'].mean()\n",
    "            ,'stdev_score':df['Caltz'].std()},\n",
    "    'Slum': {'mean_score':df['Slum'].mean()\n",
    "            ,'stdev_score':df['Slum'].std()},\n",
    "    'Na': {'mean_score':df['Na'].mean()\n",
    "            ,'stdev_score':df['Na'].std()},\n",
    "    'Zack': {'mean_score':df['Zack'].mean()\n",
    "            ,'stdev_score':df['Zack'].std()},\n",
    "    'Kinnaird': {'mean_score':df['Kinnaird'].mean()\n",
    "            ,'stdev_score':df['Kinnaird'].std()},\n",
    "}\n",
    "\n",
    "players['Slum']['mean_score'] = players['Slum']['mean_score']-10"
   ]
  },
  {
   "cell_type": "code",
   "execution_count": 47,
   "metadata": {
    "ExecuteTime": {
     "end_time": "2020-12-09T15:10:42.871034Z",
     "start_time": "2020-12-09T15:10:42.824573Z"
    },
    "collapsed": true
   },
   "outputs": [],
   "source": [
    "def simulate():\n",
    "    \n",
    "    quarterfinal1 = matchup('Kinnaird', 'Caltz')\n",
    "    quarterfinal2 = matchup('Zack', 'Eric')\n",
    "\n",
    "    \n",
    "    semifinal1 = matchup('Na', quarterfinal1)\n",
    "    semifinal2 = matchup('Slum', quarterfinal2)\n",
    "    \n",
    "\n",
    "    final = matchup(semifinal1, semifinal2)\n",
    "    \n",
    "    return final \n",
    "    "
   ]
  },
  {
   "cell_type": "code",
   "execution_count": 48,
   "metadata": {
    "ExecuteTime": {
     "end_time": "2020-12-09T15:10:46.185180Z",
     "start_time": "2020-12-09T15:10:43.146524Z"
    },
    "collapsed": true
   },
   "outputs": [],
   "source": [
    "wins = []\n",
    "\n",
    "for i in range(100000):\n",
    "    wins.append(simulate())"
   ]
  },
  {
   "cell_type": "code",
   "execution_count": 49,
   "metadata": {
    "ExecuteTime": {
     "end_time": "2020-12-09T15:10:46.446425Z",
     "start_time": "2020-12-09T15:10:46.388298Z"
    }
   },
   "outputs": [
    {
     "data": {
      "text/plain": [
       "Na          0.35887\n",
       "Slum        0.25286\n",
       "Caltz       0.17154\n",
       "Zack        0.09386\n",
       "Eric        0.06742\n",
       "Kinnaird    0.05545\n",
       "dtype: float64"
      ]
     },
     "execution_count": 49,
     "metadata": {},
     "output_type": "execute_result"
    }
   ],
   "source": [
    "percents = pd.Series(wins).value_counts(normalize=True, \n",
    "                                        sort=True, \n",
    "                                        ascending=False, \n",
    "                                        bins=None, \n",
    "                                        dropna=True\n",
    "                                       )\n",
    "\n",
    "percents"
   ]
  },
  {
   "cell_type": "code",
   "execution_count": 50,
   "metadata": {
    "ExecuteTime": {
     "end_time": "2020-12-09T15:10:46.924429Z",
     "start_time": "2020-12-09T15:10:46.892070Z"
    }
   },
   "outputs": [
    {
     "data": {
      "text/html": [
       "<div>\n",
       "<style scoped>\n",
       "    .dataframe tbody tr th:only-of-type {\n",
       "        vertical-align: middle;\n",
       "    }\n",
       "\n",
       "    .dataframe tbody tr th {\n",
       "        vertical-align: top;\n",
       "    }\n",
       "\n",
       "    .dataframe thead th {\n",
       "        text-align: right;\n",
       "    }\n",
       "</style>\n",
       "<table border=\"1\" class=\"dataframe\">\n",
       "  <thead>\n",
       "    <tr style=\"text-align: right;\">\n",
       "      <th></th>\n",
       "      <th>index</th>\n",
       "      <th>Win Probability</th>\n",
       "    </tr>\n",
       "  </thead>\n",
       "  <tbody>\n",
       "    <tr>\n",
       "      <th>0</th>\n",
       "      <td>Na</td>\n",
       "      <td>0.35887</td>\n",
       "    </tr>\n",
       "    <tr>\n",
       "      <th>1</th>\n",
       "      <td>Slum</td>\n",
       "      <td>0.25286</td>\n",
       "    </tr>\n",
       "    <tr>\n",
       "      <th>2</th>\n",
       "      <td>Caltz</td>\n",
       "      <td>0.17154</td>\n",
       "    </tr>\n",
       "    <tr>\n",
       "      <th>3</th>\n",
       "      <td>Zack</td>\n",
       "      <td>0.09386</td>\n",
       "    </tr>\n",
       "    <tr>\n",
       "      <th>4</th>\n",
       "      <td>Eric</td>\n",
       "      <td>0.06742</td>\n",
       "    </tr>\n",
       "  </tbody>\n",
       "</table>\n",
       "</div>"
      ],
      "text/plain": [
       "   index  Win Probability\n",
       "0     Na          0.35887\n",
       "1   Slum          0.25286\n",
       "2  Caltz          0.17154\n",
       "3   Zack          0.09386\n",
       "4   Eric          0.06742"
      ]
     },
     "execution_count": 50,
     "metadata": {},
     "output_type": "execute_result"
    }
   ],
   "source": [
    "percent_df = pd.DataFrame(percents, columns=['Win Probability']).reset_index()\n",
    "percent_df.head()"
   ]
  },
  {
   "cell_type": "code",
   "execution_count": 51,
   "metadata": {
    "ExecuteTime": {
     "end_time": "2020-12-09T15:10:47.494779Z",
     "start_time": "2020-12-09T15:10:47.221528Z"
    }
   },
   "outputs": [
    {
     "data": {
      "image/png": "[encoded data removed]",
      "text/plain": [
       "<matplotlib.figure.Figure at 0x11e9b5668>"
      ]
     },
     "metadata": {},
     "output_type": "display_data"
    }
   ],
   "source": [
    "sns.set_style(\"whitegrid\")\n",
    "sns.set_palette(sns.color_palette(\"coolwarm\"))\n",
    "\n",
    "plt.figure(figsize=(10, 6))\n",
    "sns.barplot(percent_df.index, percent_df['Win Probability'])\n",
    "\n",
    "for i, row in percent_df.iterrows():\n",
    "    plt.text(  i\n",
    "             , row[1]+.01\n",
    "             , s=\"{:.2%}\".format(round(row[1], 5))\n",
    "             , color='black'\n",
    "             , ha=\"center\"\n",
    "             , fontsize=11\n",
    "            )\n",
    "    \n",
    "plt.xticks(range(6), percent_df['index'], fontsize=12)\n",
    "plt.yticks(fontsize=12)\n",
    "plt.title('Probability of Winning the League (200k simulations)', fontsize=16)\n",
    "plt.ylabel('Win Probability', fontsize=14)\n",
    "plt.xlabel('Team', fontsize=14)\n",
    "plt.ylim(0, .5)\n",
    "\n",
    "plt.savefig('dke_results.png')\n",
    "\n",
    "plt.show()"
   ]
  },
  {
   "cell_type": "code",
   "execution_count": null,
   "metadata": {
    "collapsed": true
   },
   "outputs": [],
   "source": []
  }
 ],
 "metadata": {
  "kernelspec": {
   "display_name": "Python 3",
   "language": "python",
   "name": "python3"
  },
  "language_info": {
   "codemirror_mode": {
    "name": "ipython",
    "version": 3
   },
   "file_extension": ".py",
   "mimetype": "text/x-python",
   "name": "python",
   "nbconvert_exporter": "python",
   "pygments_lexer": "ipython3",
   "version": "3.6.3"
  },
  "varInspector": {
   "cols": {
    "lenName": 16,
    "lenType": 16,
    "lenVar": 40
   },
   "kernels_config": {
    "python": {
     "delete_cmd_postfix": "",
     "delete_cmd_prefix": "del ",
     "library": "var_list.py",
     "varRefreshCmd": "print(var_dic_list())"
    },
    "r": {
     "delete_cmd_postfix": ") ",
     "delete_cmd_prefix": "rm(",
     "library": "var_list.r",
     "varRefreshCmd": "cat(var_dic_list()) "
    }
   },
   "types_to_exclude": [
    "module",
    "function",
    "builtin_function_or_method",
    "instance",
    "_Feature"
   ],
   "window_display": false
  }
 },
 "nbformat": 4,
 "nbformat_minor": 2
}
